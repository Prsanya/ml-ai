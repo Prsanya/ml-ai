{
 "cells": [
  {
   "cell_type": "code",
   "execution_count": 1,
   "id": "7d9421cc",
   "metadata": {},
   "outputs": [],
   "source": [
    "import pandas as pd\n",
    "import numpy as np"
   ]
  },
  {
   "cell_type": "code",
   "execution_count": 2,
   "id": "733c73f1",
   "metadata": {},
   "outputs": [],
   "source": [
    "data=pd.read_csv(\"Tweet_NFT.csv\",names=[\"id\",\"text\",\"datetime\",\"intent\"],header=0)"
   ]
  },
  {
   "cell_type": "code",
   "execution_count": 3,
   "id": "eecece90",
   "metadata": {},
   "outputs": [
    {
     "data": {
      "text/html": [
       "<div>\n",
       "<style scoped>\n",
       "    .dataframe tbody tr th:only-of-type {\n",
       "        vertical-align: middle;\n",
       "    }\n",
       "\n",
       "    .dataframe tbody tr th {\n",
       "        vertical-align: top;\n",
       "    }\n",
       "\n",
       "    .dataframe thead th {\n",
       "        text-align: right;\n",
       "    }\n",
       "</style>\n",
       "<table border=\"1\" class=\"dataframe\">\n",
       "  <thead>\n",
       "    <tr style=\"text-align: right;\">\n",
       "      <th></th>\n",
       "      <th>id</th>\n",
       "      <th>text</th>\n",
       "      <th>datetime</th>\n",
       "      <th>intent</th>\n",
       "    </tr>\n",
       "  </thead>\n",
       "  <tbody>\n",
       "    <tr>\n",
       "      <th>0</th>\n",
       "      <td>1212762</td>\n",
       "      <td>@crypto_brody @eCoLoGy1990 @MoonrunnersNFT @It...</td>\n",
       "      <td>2022-08-06T16:56:36.000Z</td>\n",
       "      <td>Community</td>\n",
       "    </tr>\n",
       "    <tr>\n",
       "      <th>1</th>\n",
       "      <td>1212763</td>\n",
       "      <td>Need Sick Character artâ“#art #artist #Artist...</td>\n",
       "      <td>2022-08-06T16:56:36.000Z</td>\n",
       "      <td>Giveaway</td>\n",
       "    </tr>\n",
       "    <tr>\n",
       "      <th>2</th>\n",
       "      <td>1212765</td>\n",
       "      <td>@The_Hulk_NFT @INagotchiNFT @Tesla @killabears...</td>\n",
       "      <td>2022-08-06T16:56:35.000Z</td>\n",
       "      <td>Appreciation</td>\n",
       "    </tr>\n",
       "    <tr>\n",
       "      <th>3</th>\n",
       "      <td>1212766</td>\n",
       "      <td>@CryptoBatzNFT @DarekBTW The first project in ...</td>\n",
       "      <td>2022-08-06T16:56:35.000Z</td>\n",
       "      <td>Community</td>\n",
       "    </tr>\n",
       "    <tr>\n",
       "      <th>4</th>\n",
       "      <td>1212767</td>\n",
       "      <td>@sashadysonn The first project in crypto with ...</td>\n",
       "      <td>2022-08-06T16:56:34.000Z</td>\n",
       "      <td>Community</td>\n",
       "    </tr>\n",
       "  </tbody>\n",
       "</table>\n",
       "</div>"
      ],
      "text/plain": [
       "        id                                               text  \\\n",
       "0  1212762  @crypto_brody @eCoLoGy1990 @MoonrunnersNFT @It...   \n",
       "1  1212763  Need Sick Character artâ“#art #artist #Artist...   \n",
       "2  1212765  @The_Hulk_NFT @INagotchiNFT @Tesla @killabears...   \n",
       "3  1212766  @CryptoBatzNFT @DarekBTW The first project in ...   \n",
       "4  1212767  @sashadysonn The first project in crypto with ...   \n",
       "\n",
       "                   datetime        intent  \n",
       "0  2022-08-06T16:56:36.000Z     Community  \n",
       "1  2022-08-06T16:56:36.000Z      Giveaway  \n",
       "2  2022-08-06T16:56:35.000Z  Appreciation  \n",
       "3  2022-08-06T16:56:35.000Z     Community  \n",
       "4  2022-08-06T16:56:34.000Z     Community  "
      ]
     },
     "execution_count": 3,
     "metadata": {},
     "output_type": "execute_result"
    }
   ],
   "source": [
    "data.head()"
   ]
  },
  {
   "cell_type": "code",
   "execution_count": 4,
   "id": "f00c1254",
   "metadata": {},
   "outputs": [
    {
     "data": {
      "text/plain": [
       "0         @crypto_brody @eCoLoGy1990 @MoonrunnersNFT @It...\n",
       "1         Need Sick Character artâ“#art #artist #Artist...\n",
       "2         @The_Hulk_NFT @INagotchiNFT @Tesla @killabears...\n",
       "3         @CryptoBatzNFT @DarekBTW The first project in ...\n",
       "4         @sashadysonn The first project in crypto with ...\n",
       "                                ...                        \n",
       "127448    @Jason My company Universe is solving this, an...\n",
       "127449            @BosoTokyo Many will get rekt in this NFT\n",
       "127450    @leeneedham81 @KibaInuWorld @HODL_OFFICIAL @Ko...\n",
       "127451               @1kz3ro @UNLEASHED_NFT I love this job\n",
       "127452    @Shill_Ronin @UNLEASHED_NFT my proof https://t...\n",
       "Name: text, Length: 127453, dtype: object"
      ]
     },
     "execution_count": 4,
     "metadata": {},
     "output_type": "execute_result"
    }
   ],
   "source": [
    "data[\"text\"]"
   ]
  },
  {
   "cell_type": "code",
   "execution_count": 5,
   "id": "e607137d",
   "metadata": {},
   "outputs": [
    {
     "data": {
      "text/plain": [
       "(127453, 4)"
      ]
     },
     "execution_count": 5,
     "metadata": {},
     "output_type": "execute_result"
    }
   ],
   "source": [
    "data.shape"
   ]
  },
  {
   "cell_type": "code",
   "execution_count": 6,
   "id": "53a777f2",
   "metadata": {},
   "outputs": [
    {
     "data": {
      "text/plain": [
       "id              0\n",
       "text            0\n",
       "datetime        0\n",
       "intent      31089\n",
       "dtype: int64"
      ]
     },
     "execution_count": 6,
     "metadata": {},
     "output_type": "execute_result"
    }
   ],
   "source": [
    "data.isnull().sum()"
   ]
  },
  {
   "cell_type": "code",
   "execution_count": 7,
   "id": "e5df98da",
   "metadata": {},
   "outputs": [
    {
     "data": {
      "text/plain": [
       "Community         41510\n",
       "Giveaway          21041\n",
       "Appreciation      16451\n",
       "Whitelist          8320\n",
       "Presale            5107\n",
       "Done               3049\n",
       "pinksale            477\n",
       "Interested          276\n",
       "Launching Soon      133\n",
       "Name: intent, dtype: int64"
      ]
     },
     "execution_count": 7,
     "metadata": {},
     "output_type": "execute_result"
    }
   ],
   "source": [
    "data[\"intent\"].value_counts()"
   ]
  },
  {
   "cell_type": "code",
   "execution_count": 8,
   "id": "8f396423",
   "metadata": {},
   "outputs": [
    {
     "name": "stdout",
     "output_type": "stream",
     "text": [
      "<class 'pandas.core.frame.DataFrame'>\n",
      "RangeIndex: 127453 entries, 0 to 127452\n",
      "Data columns (total 4 columns):\n",
      " #   Column    Non-Null Count   Dtype \n",
      "---  ------    --------------   ----- \n",
      " 0   id        127453 non-null  int64 \n",
      " 1   text      127453 non-null  object\n",
      " 2   datetime  127453 non-null  object\n",
      " 3   intent    96364 non-null   object\n",
      "dtypes: int64(1), object(3)\n",
      "memory usage: 3.9+ MB\n"
     ]
    }
   ],
   "source": [
    "data.info()"
   ]
  },
  {
   "cell_type": "code",
   "execution_count": null,
   "id": "096ee55a",
   "metadata": {},
   "outputs": [],
   "source": []
  },
  {
   "cell_type": "code",
   "execution_count": 9,
   "id": "5ee790db",
   "metadata": {},
   "outputs": [],
   "source": [
    "data.intent=pd.Categorical(data.intent)\n",
    "data[\"intent\"]=data.intent.cat.codes"
   ]
  },
  {
   "cell_type": "code",
   "execution_count": 10,
   "id": "31dcd934",
   "metadata": {},
   "outputs": [
    {
     "data": {
      "text/html": [
       "<div>\n",
       "<style scoped>\n",
       "    .dataframe tbody tr th:only-of-type {\n",
       "        vertical-align: middle;\n",
       "    }\n",
       "\n",
       "    .dataframe tbody tr th {\n",
       "        vertical-align: top;\n",
       "    }\n",
       "\n",
       "    .dataframe thead th {\n",
       "        text-align: right;\n",
       "    }\n",
       "</style>\n",
       "<table border=\"1\" class=\"dataframe\">\n",
       "  <thead>\n",
       "    <tr style=\"text-align: right;\">\n",
       "      <th></th>\n",
       "      <th>id</th>\n",
       "      <th>text</th>\n",
       "      <th>datetime</th>\n",
       "      <th>intent</th>\n",
       "    </tr>\n",
       "  </thead>\n",
       "  <tbody>\n",
       "    <tr>\n",
       "      <th>0</th>\n",
       "      <td>1212762</td>\n",
       "      <td>@crypto_brody @eCoLoGy1990 @MoonrunnersNFT @It...</td>\n",
       "      <td>2022-08-06T16:56:36.000Z</td>\n",
       "      <td>1</td>\n",
       "    </tr>\n",
       "    <tr>\n",
       "      <th>1</th>\n",
       "      <td>1212763</td>\n",
       "      <td>Need Sick Character artâ“#art #artist #Artist...</td>\n",
       "      <td>2022-08-06T16:56:36.000Z</td>\n",
       "      <td>3</td>\n",
       "    </tr>\n",
       "    <tr>\n",
       "      <th>2</th>\n",
       "      <td>1212765</td>\n",
       "      <td>@The_Hulk_NFT @INagotchiNFT @Tesla @killabears...</td>\n",
       "      <td>2022-08-06T16:56:35.000Z</td>\n",
       "      <td>0</td>\n",
       "    </tr>\n",
       "    <tr>\n",
       "      <th>3</th>\n",
       "      <td>1212766</td>\n",
       "      <td>@CryptoBatzNFT @DarekBTW The first project in ...</td>\n",
       "      <td>2022-08-06T16:56:35.000Z</td>\n",
       "      <td>1</td>\n",
       "    </tr>\n",
       "    <tr>\n",
       "      <th>4</th>\n",
       "      <td>1212767</td>\n",
       "      <td>@sashadysonn The first project in crypto with ...</td>\n",
       "      <td>2022-08-06T16:56:34.000Z</td>\n",
       "      <td>1</td>\n",
       "    </tr>\n",
       "    <tr>\n",
       "      <th>...</th>\n",
       "      <td>...</td>\n",
       "      <td>...</td>\n",
       "      <td>...</td>\n",
       "      <td>...</td>\n",
       "    </tr>\n",
       "    <tr>\n",
       "      <th>127448</th>\n",
       "      <td>1278721</td>\n",
       "      <td>@Jason My company Universe is solving this, an...</td>\n",
       "      <td>2022-08-08T03:32:01.000Z</td>\n",
       "      <td>-1</td>\n",
       "    </tr>\n",
       "    <tr>\n",
       "      <th>127449</th>\n",
       "      <td>1278723</td>\n",
       "      <td>@BosoTokyo Many will get rekt in this NFT</td>\n",
       "      <td>2022-08-08T03:32:00.000Z</td>\n",
       "      <td>-1</td>\n",
       "    </tr>\n",
       "    <tr>\n",
       "      <th>127450</th>\n",
       "      <td>1278724</td>\n",
       "      <td>@leeneedham81 @KibaInuWorld @HODL_OFFICIAL @Ko...</td>\n",
       "      <td>2022-08-08T03:32:00.000Z</td>\n",
       "      <td>-1</td>\n",
       "    </tr>\n",
       "    <tr>\n",
       "      <th>127451</th>\n",
       "      <td>1278725</td>\n",
       "      <td>@1kz3ro @UNLEASHED_NFT I love this job</td>\n",
       "      <td>2022-08-08T03:31:59.000Z</td>\n",
       "      <td>-1</td>\n",
       "    </tr>\n",
       "    <tr>\n",
       "      <th>127452</th>\n",
       "      <td>1278729</td>\n",
       "      <td>@Shill_Ronin @UNLEASHED_NFT my proof https://t...</td>\n",
       "      <td>2022-08-08T03:31:58.000Z</td>\n",
       "      <td>-1</td>\n",
       "    </tr>\n",
       "  </tbody>\n",
       "</table>\n",
       "<p>127453 rows × 4 columns</p>\n",
       "</div>"
      ],
      "text/plain": [
       "             id                                               text  \\\n",
       "0       1212762  @crypto_brody @eCoLoGy1990 @MoonrunnersNFT @It...   \n",
       "1       1212763  Need Sick Character artâ“#art #artist #Artist...   \n",
       "2       1212765  @The_Hulk_NFT @INagotchiNFT @Tesla @killabears...   \n",
       "3       1212766  @CryptoBatzNFT @DarekBTW The first project in ...   \n",
       "4       1212767  @sashadysonn The first project in crypto with ...   \n",
       "...         ...                                                ...   \n",
       "127448  1278721  @Jason My company Universe is solving this, an...   \n",
       "127449  1278723          @BosoTokyo Many will get rekt in this NFT   \n",
       "127450  1278724  @leeneedham81 @KibaInuWorld @HODL_OFFICIAL @Ko...   \n",
       "127451  1278725             @1kz3ro @UNLEASHED_NFT I love this job   \n",
       "127452  1278729  @Shill_Ronin @UNLEASHED_NFT my proof https://t...   \n",
       "\n",
       "                        datetime  intent  \n",
       "0       2022-08-06T16:56:36.000Z       1  \n",
       "1       2022-08-06T16:56:36.000Z       3  \n",
       "2       2022-08-06T16:56:35.000Z       0  \n",
       "3       2022-08-06T16:56:35.000Z       1  \n",
       "4       2022-08-06T16:56:34.000Z       1  \n",
       "...                          ...     ...  \n",
       "127448  2022-08-08T03:32:01.000Z      -1  \n",
       "127449  2022-08-08T03:32:00.000Z      -1  \n",
       "127450  2022-08-08T03:32:00.000Z      -1  \n",
       "127451  2022-08-08T03:31:59.000Z      -1  \n",
       "127452  2022-08-08T03:31:58.000Z      -1  \n",
       "\n",
       "[127453 rows x 4 columns]"
      ]
     },
     "execution_count": 10,
     "metadata": {},
     "output_type": "execute_result"
    }
   ],
   "source": [
    "data"
   ]
  },
  {
   "cell_type": "code",
   "execution_count": 11,
   "id": "6cb28606",
   "metadata": {},
   "outputs": [
    {
     "data": {
      "text/plain": [
       " 1    41510\n",
       "-1    31089\n",
       " 3    21041\n",
       " 0    16451\n",
       " 7     8320\n",
       " 6     5107\n",
       " 2     3049\n",
       " 8      477\n",
       " 4      276\n",
       " 5      133\n",
       "Name: intent, dtype: int64"
      ]
     },
     "execution_count": 11,
     "metadata": {},
     "output_type": "execute_result"
    }
   ],
   "source": [
    "data[\"intent\"].value_counts()"
   ]
  },
  {
   "cell_type": "code",
   "execution_count": null,
   "id": "27052fa1",
   "metadata": {},
   "outputs": [],
   "source": []
  },
  {
   "cell_type": "code",
   "execution_count": 12,
   "id": "937601b6",
   "metadata": {},
   "outputs": [
    {
     "data": {
      "text/plain": [
       "127448    @jason my company universe is solving this, an...\n",
       "127449            @bosotokyo many will get rekt in this nft\n",
       "127450    @leeneedham81 @kibainuworld @hodl_official @ko...\n",
       "127451               @1kz3ro @unleashed_nft i love this job\n",
       "127452    @shill_ronin @unleashed_nft my proof https://t...\n",
       "Name: text, dtype: object"
      ]
     },
     "execution_count": 12,
     "metadata": {},
     "output_type": "execute_result"
    }
   ],
   "source": [
    "data['text']=data['text'].str.lower()\n",
    "data['text'].tail()"
   ]
  },
  {
   "cell_type": "code",
   "execution_count": 13,
   "id": "dc701115",
   "metadata": {},
   "outputs": [],
   "source": [
    "stopwordlist = ['a', 'about', 'above', 'after', 'again', 'ain', 'all', 'am', 'an',\n",
    "             'and','any','are', 'as', 'at', 'be', 'because', 'been', 'before',\n",
    "             'being', 'below', 'between','both', 'by', 'can', 'd', 'did', 'do',\n",
    "             'does', 'doing', 'down', 'during', 'each','few', 'for', 'from',\n",
    "             'further', 'had', 'has', 'have', 'having', 'he', 'her', 'here',\n",
    "             'hers', 'herself', 'him', 'himself', 'his', 'how', 'i', 'if', 'in',\n",
    "             'into','is', 'it', 'its', 'itself', 'just', 'll', 'm', 'ma',\n",
    "             'me', 'more', 'most','my', 'myself', 'now', 'o', 'of', 'on', 'once',\n",
    "             'only', 'or', 'other', 'our', 'ours','ourselves', 'out', 'own', 're','s', 'same', 'she', \"shes\", 'should', \"shouldve\",'so', 'some', 'such',\n",
    "             't', 'than', 'that', \"thatll\", 'the', 'their', 'theirs', 'them',\n",
    "             'themselves', 'then', 'there', 'these', 'they', 'this', 'those',\n",
    "             'through', 'to', 'too','under', 'until', 'up', 've', 'very', 'was',\n",
    "             'we', 'were', 'what', 'when', 'where','which','while', 'who', 'whom',\n",
    "             'why', 'will', 'with', 'won', 'y', 'you', \"youd\",\"youll\", \"youre\",\n",
    "             \"youve\", 'your', 'yours', 'yourself', 'yourselves']"
   ]
  },
  {
   "cell_type": "code",
   "execution_count": 14,
   "id": "e867d19a",
   "metadata": {},
   "outputs": [
    {
     "data": {
      "text/plain": [
       "0    @crypto_brody @ecology1990 @moonrunnersnft @it...\n",
       "1    need sick character artâ“#art #artist #artist...\n",
       "2    @the_hulk_nft @inagotchinft @tesla @killabears...\n",
       "3    @cryptobatznft @darekbtw first project crypto ...\n",
       "4    @sashadysonn first project crypto move earn #a...\n",
       "Name: text, dtype: object"
      ]
     },
     "execution_count": 14,
     "metadata": {},
     "output_type": "execute_result"
    }
   ],
   "source": [
    "STOPWORDS = set(stopwordlist)\n",
    "def cleaning_stopwords(text):\n",
    "    return \" \".join([word for word in str(text).split() if word not in STOPWORDS])\n",
    "data['text'] = data['text'].apply(lambda text: cleaning_stopwords(text))\n",
    "data['text'].head()"
   ]
  },
  {
   "cell_type": "code",
   "execution_count": 15,
   "id": "f1a50f79",
   "metadata": {},
   "outputs": [
    {
     "data": {
      "text/plain": [
       "0    cryptobrody ecology1990 moonrunnersnft itsukin...\n",
       "1    need sick character artâ“art artist artists a...\n",
       "2    thehulknft inagotchinft tesla killabearsnft el...\n",
       "3    cryptobatznft darekbtw first project crypto mo...\n",
       "4    sashadysonn first project crypto move earn ast...\n",
       "Name: text, dtype: object"
      ]
     },
     "execution_count": 15,
     "metadata": {},
     "output_type": "execute_result"
    }
   ],
   "source": [
    "import string\n",
    "english_punctuations = string.punctuation\n",
    "punctuations_list = english_punctuations\n",
    "def cleaning_punctuations(text):\n",
    "    translator = str.maketrans('', '', punctuations_list)\n",
    "    return text.translate(translator)\n",
    "data['text']= data['text'].apply(lambda x: cleaning_punctuations(x))\n",
    "data['text'].head()"
   ]
  },
  {
   "cell_type": "code",
   "execution_count": 16,
   "id": "af788401",
   "metadata": {},
   "outputs": [],
   "source": [
    "import re"
   ]
  },
  {
   "cell_type": "code",
   "execution_count": 17,
   "id": "d8442c82",
   "metadata": {},
   "outputs": [
    {
     "data": {
      "text/plain": [
       "0    cryptobrody ecolog1990 moonrunnersnft itsukinf...\n",
       "1    need sick character artâ“art artist artists a...\n",
       "2    thehulknft inagotchinft tesla killabearsnft el...\n",
       "3    cryptobatznft darekbtw first project crypto mo...\n",
       "4    sashadysonn first project crypto move earn ast...\n",
       "Name: text, dtype: object"
      ]
     },
     "execution_count": 17,
     "metadata": {},
     "output_type": "execute_result"
    }
   ],
   "source": [
    "def cleaning_repeating_char(text):\n",
    "    return re.sub(r'(.)1+', r'1', text)\n",
    "data['text'] = data['text'].apply(lambda x: cleaning_repeating_char(x))\n",
    "data['text'].head()"
   ]
  },
  {
   "cell_type": "code",
   "execution_count": 18,
   "id": "8bd6701f",
   "metadata": {},
   "outputs": [
    {
     "data": {
      "text/plain": [
       "127448    jason company universe solving this weve got c...\n",
       "127449                          bosotokyo many get rekt nft\n",
       "127450    leeneedham1 kibainuworld hodlofficial koacomba...\n",
       "127451                         1kz3ro unleashednft love job\n",
       "127452     shillronin unleashednft proof httpstco44di9p2gz7\n",
       "Name: text, dtype: object"
      ]
     },
     "execution_count": 18,
     "metadata": {},
     "output_type": "execute_result"
    }
   ],
   "source": [
    "def cleaning_URLs(text):\n",
    "    return re.sub('((www.[^s]+)|(https?://[^s]+))',' ',text)\n",
    "data['text'] = data['text'].apply(lambda x: cleaning_URLs(x))\n",
    "data['text'].tail()"
   ]
  },
  {
   "cell_type": "code",
   "execution_count": 19,
   "id": "72f9d44b",
   "metadata": {},
   "outputs": [
    {
     "data": {
      "text/plain": [
       "127448    jason company universe solving this weve got c...\n",
       "127449                          bosotokyo many get rekt nft\n",
       "127450    leeneedham kibainuworld hodlofficial koacombat...\n",
       "127451                           kzro unleashednft love job\n",
       "127452          shillronin unleashednft proof httpstcodipgz\n",
       "Name: text, dtype: object"
      ]
     },
     "execution_count": 19,
     "metadata": {},
     "output_type": "execute_result"
    }
   ],
   "source": [
    "def cleaning_numbers(data):\n",
    "    return re.sub('[0-9]+', '', data)\n",
    "data['text'] = data['text'].apply(lambda x: cleaning_numbers(x))\n",
    "data['text'].tail()"
   ]
  },
  {
   "cell_type": "code",
   "execution_count": 20,
   "id": "2a99d9c4",
   "metadata": {},
   "outputs": [
    {
     "data": {
      "text/plain": [
       "0    [cryptobrody, ecolog, moonrunnersnft, itsukinf...\n",
       "1    [need, sick, character, artâ, “art, artist, a...\n",
       "2    [thehulknft, inagotchinft, tesla, killabearsnf...\n",
       "3    [cryptobatznft, darekbtw, first, project, cryp...\n",
       "4    [sashadysonn, first, project, crypto, move, ea...\n",
       "Name: text, dtype: object"
      ]
     },
     "execution_count": 20,
     "metadata": {},
     "output_type": "execute_result"
    }
   ],
   "source": [
    "from nltk.tokenize import RegexpTokenizer\n",
    "tokenizer = RegexpTokenizer(r'\\w+|$[0-9]+|\\S+')\n",
    "data['text'] = data['text'].apply(tokenizer.tokenize)\n",
    "data['text'].head()"
   ]
  },
  {
   "cell_type": "code",
   "execution_count": 21,
   "id": "8305b045",
   "metadata": {},
   "outputs": [
    {
     "data": {
      "text/plain": [
       "0    [cryptobrody, ecolog, moonrunnersnft, itsukinf...\n",
       "1    [need, sick, character, artâ, “art, artist, a...\n",
       "2    [thehulknft, inagotchinft, tesla, killabearsnf...\n",
       "3    [cryptobatznft, darekbtw, first, project, cryp...\n",
       "4    [sashadysonn, first, project, crypto, move, ea...\n",
       "Name: text, dtype: object"
      ]
     },
     "execution_count": 21,
     "metadata": {},
     "output_type": "execute_result"
    }
   ],
   "source": [
    "import nltk\n",
    "st = nltk.PorterStemmer()\n",
    "def stemming_on_text(data):\n",
    "    text = [st.stem(word) for word in data]\n",
    "    return data\n",
    "data['text']= data['text'].apply(lambda x: stemming_on_text(x))\n",
    "data['text'].head()"
   ]
  },
  {
   "cell_type": "code",
   "execution_count": 22,
   "id": "ccc7335c",
   "metadata": {},
   "outputs": [
    {
     "data": {
      "text/html": [
       "<div>\n",
       "<style scoped>\n",
       "    .dataframe tbody tr th:only-of-type {\n",
       "        vertical-align: middle;\n",
       "    }\n",
       "\n",
       "    .dataframe tbody tr th {\n",
       "        vertical-align: top;\n",
       "    }\n",
       "\n",
       "    .dataframe thead th {\n",
       "        text-align: right;\n",
       "    }\n",
       "</style>\n",
       "<table border=\"1\" class=\"dataframe\">\n",
       "  <thead>\n",
       "    <tr style=\"text-align: right;\">\n",
       "      <th></th>\n",
       "      <th>id</th>\n",
       "      <th>text</th>\n",
       "      <th>datetime</th>\n",
       "      <th>intent</th>\n",
       "    </tr>\n",
       "  </thead>\n",
       "  <tbody>\n",
       "    <tr>\n",
       "      <th>0</th>\n",
       "      <td>1212762</td>\n",
       "      <td>[cryptobrody, ecolog, moonrunnersnft, itsukinf...</td>\n",
       "      <td>2022-08-06T16:56:36.000Z</td>\n",
       "      <td>1</td>\n",
       "    </tr>\n",
       "    <tr>\n",
       "      <th>1</th>\n",
       "      <td>1212763</td>\n",
       "      <td>[need, sick, character, artâ, “art, artist, a...</td>\n",
       "      <td>2022-08-06T16:56:36.000Z</td>\n",
       "      <td>3</td>\n",
       "    </tr>\n",
       "    <tr>\n",
       "      <th>2</th>\n",
       "      <td>1212765</td>\n",
       "      <td>[thehulknft, inagotchinft, tesla, killabearsnf...</td>\n",
       "      <td>2022-08-06T16:56:35.000Z</td>\n",
       "      <td>0</td>\n",
       "    </tr>\n",
       "    <tr>\n",
       "      <th>3</th>\n",
       "      <td>1212766</td>\n",
       "      <td>[cryptobatznft, darekbtw, first, project, cryp...</td>\n",
       "      <td>2022-08-06T16:56:35.000Z</td>\n",
       "      <td>1</td>\n",
       "    </tr>\n",
       "    <tr>\n",
       "      <th>4</th>\n",
       "      <td>1212767</td>\n",
       "      <td>[sashadysonn, first, project, crypto, move, ea...</td>\n",
       "      <td>2022-08-06T16:56:34.000Z</td>\n",
       "      <td>1</td>\n",
       "    </tr>\n",
       "  </tbody>\n",
       "</table>\n",
       "</div>"
      ],
      "text/plain": [
       "        id                                               text  \\\n",
       "0  1212762  [cryptobrody, ecolog, moonrunnersnft, itsukinf...   \n",
       "1  1212763  [need, sick, character, artâ, “art, artist, a...   \n",
       "2  1212765  [thehulknft, inagotchinft, tesla, killabearsnf...   \n",
       "3  1212766  [cryptobatznft, darekbtw, first, project, cryp...   \n",
       "4  1212767  [sashadysonn, first, project, crypto, move, ea...   \n",
       "\n",
       "                   datetime  intent  \n",
       "0  2022-08-06T16:56:36.000Z       1  \n",
       "1  2022-08-06T16:56:36.000Z       3  \n",
       "2  2022-08-06T16:56:35.000Z       0  \n",
       "3  2022-08-06T16:56:35.000Z       1  \n",
       "4  2022-08-06T16:56:34.000Z       1  "
      ]
     },
     "execution_count": 22,
     "metadata": {},
     "output_type": "execute_result"
    }
   ],
   "source": [
    "data.head()"
   ]
  },
  {
   "cell_type": "code",
   "execution_count": 106,
   "id": "79e2bc47",
   "metadata": {},
   "outputs": [],
   "source": [
    "testdf = data[data['intent'] == -1]\n",
    "traindf = data[data['intent'] != -1]"
   ]
  },
  {
   "cell_type": "code",
   "execution_count": 25,
   "id": "afaf3ee0",
   "metadata": {},
   "outputs": [
    {
     "data": {
      "text/html": [
       "<div>\n",
       "<style scoped>\n",
       "    .dataframe tbody tr th:only-of-type {\n",
       "        vertical-align: middle;\n",
       "    }\n",
       "\n",
       "    .dataframe tbody tr th {\n",
       "        vertical-align: top;\n",
       "    }\n",
       "\n",
       "    .dataframe thead th {\n",
       "        text-align: right;\n",
       "    }\n",
       "</style>\n",
       "<table border=\"1\" class=\"dataframe\">\n",
       "  <thead>\n",
       "    <tr style=\"text-align: right;\">\n",
       "      <th></th>\n",
       "      <th>id</th>\n",
       "      <th>text</th>\n",
       "      <th>datetime</th>\n",
       "      <th>intent</th>\n",
       "    </tr>\n",
       "  </thead>\n",
       "  <tbody>\n",
       "    <tr>\n",
       "      <th>0</th>\n",
       "      <td>1212762</td>\n",
       "      <td>[cryptobrody, ecolog, moonrunnersnft, itsukinf...</td>\n",
       "      <td>2022-08-06T16:56:36.000Z</td>\n",
       "      <td>1</td>\n",
       "    </tr>\n",
       "    <tr>\n",
       "      <th>1</th>\n",
       "      <td>1212763</td>\n",
       "      <td>[need, sick, character, artâ, “art, artist, a...</td>\n",
       "      <td>2022-08-06T16:56:36.000Z</td>\n",
       "      <td>3</td>\n",
       "    </tr>\n",
       "    <tr>\n",
       "      <th>2</th>\n",
       "      <td>1212765</td>\n",
       "      <td>[thehulknft, inagotchinft, tesla, killabearsnf...</td>\n",
       "      <td>2022-08-06T16:56:35.000Z</td>\n",
       "      <td>0</td>\n",
       "    </tr>\n",
       "    <tr>\n",
       "      <th>3</th>\n",
       "      <td>1212766</td>\n",
       "      <td>[cryptobatznft, darekbtw, first, project, cryp...</td>\n",
       "      <td>2022-08-06T16:56:35.000Z</td>\n",
       "      <td>1</td>\n",
       "    </tr>\n",
       "    <tr>\n",
       "      <th>4</th>\n",
       "      <td>1212767</td>\n",
       "      <td>[sashadysonn, first, project, crypto, move, ea...</td>\n",
       "      <td>2022-08-06T16:56:34.000Z</td>\n",
       "      <td>1</td>\n",
       "    </tr>\n",
       "    <tr>\n",
       "      <th>...</th>\n",
       "      <td>...</td>\n",
       "      <td>...</td>\n",
       "      <td>...</td>\n",
       "      <td>...</td>\n",
       "    </tr>\n",
       "    <tr>\n",
       "      <th>96359</th>\n",
       "      <td>1424490</td>\n",
       "      <td>[nftcryptogang, liuyan, xfedaeeeaadaecbfc, tha...</td>\n",
       "      <td>2022-08-11T23:11:58.000Z</td>\n",
       "      <td>0</td>\n",
       "    </tr>\n",
       "    <tr>\n",
       "      <th>96360</th>\n",
       "      <td>1424491</td>\n",
       "      <td>[registered, win, cryptopunksnfts, blokpax, le...</td>\n",
       "      <td>2022-08-11T23:11:58.000Z</td>\n",
       "      <td>6</td>\n",
       "    </tr>\n",
       "    <tr>\n",
       "      <th>96361</th>\n",
       "      <td>1424494</td>\n",
       "      <td>[solsniffer, dyor, nft, collection, dictators,...</td>\n",
       "      <td>2022-08-11T23:11:58.000Z</td>\n",
       "      <td>0</td>\n",
       "    </tr>\n",
       "    <tr>\n",
       "      <th>96362</th>\n",
       "      <td>1424497</td>\n",
       "      <td>[nft, nftcommmunity, deltaflare, join, discord...</td>\n",
       "      <td>2022-08-11T23:11:56.000Z</td>\n",
       "      <td>1</td>\n",
       "    </tr>\n",
       "    <tr>\n",
       "      <th>96363</th>\n",
       "      <td>1424498</td>\n",
       "      <td>[duckbathing, diozoth, elonmusk, richerd, john...</td>\n",
       "      <td>2022-08-11T23:11:56.000Z</td>\n",
       "      <td>0</td>\n",
       "    </tr>\n",
       "  </tbody>\n",
       "</table>\n",
       "<p>96364 rows × 4 columns</p>\n",
       "</div>"
      ],
      "text/plain": [
       "            id                                               text  \\\n",
       "0      1212762  [cryptobrody, ecolog, moonrunnersnft, itsukinf...   \n",
       "1      1212763  [need, sick, character, artâ, “art, artist, a...   \n",
       "2      1212765  [thehulknft, inagotchinft, tesla, killabearsnf...   \n",
       "3      1212766  [cryptobatznft, darekbtw, first, project, cryp...   \n",
       "4      1212767  [sashadysonn, first, project, crypto, move, ea...   \n",
       "...        ...                                                ...   \n",
       "96359  1424490  [nftcryptogang, liuyan, xfedaeeeaadaecbfc, tha...   \n",
       "96360  1424491  [registered, win, cryptopunksnfts, blokpax, le...   \n",
       "96361  1424494  [solsniffer, dyor, nft, collection, dictators,...   \n",
       "96362  1424497  [nft, nftcommmunity, deltaflare, join, discord...   \n",
       "96363  1424498  [duckbathing, diozoth, elonmusk, richerd, john...   \n",
       "\n",
       "                       datetime  intent  \n",
       "0      2022-08-06T16:56:36.000Z       1  \n",
       "1      2022-08-06T16:56:36.000Z       3  \n",
       "2      2022-08-06T16:56:35.000Z       0  \n",
       "3      2022-08-06T16:56:35.000Z       1  \n",
       "4      2022-08-06T16:56:34.000Z       1  \n",
       "...                         ...     ...  \n",
       "96359  2022-08-11T23:11:58.000Z       0  \n",
       "96360  2022-08-11T23:11:58.000Z       6  \n",
       "96361  2022-08-11T23:11:58.000Z       0  \n",
       "96362  2022-08-11T23:11:56.000Z       1  \n",
       "96363  2022-08-11T23:11:56.000Z       0  \n",
       "\n",
       "[96364 rows x 4 columns]"
      ]
     },
     "execution_count": 25,
     "metadata": {},
     "output_type": "execute_result"
    }
   ],
   "source": [
    "traindf "
   ]
  },
  {
   "cell_type": "code",
   "execution_count": 30,
   "id": "22fc32f6",
   "metadata": {},
   "outputs": [],
   "source": [
    "from sklearn.feature_extraction.text import TfidfVectorizer"
   ]
  },
  {
   "cell_type": "code",
   "execution_count": null,
   "id": "00bc9d1a",
   "metadata": {},
   "outputs": [],
   "source": []
  },
  {
   "cell_type": "code",
   "execution_count": 31,
   "id": "bc95248c",
   "metadata": {},
   "outputs": [
    {
     "name": "stderr",
     "output_type": "stream",
     "text": [
      "C:\\Users\\PRSANYA\\anaconda3\\lib\\site-packages\\sklearn\\utils\\deprecation.py:87: FutureWarning: Function get_feature_names is deprecated; get_feature_names is deprecated in 1.0 and will be removed in 1.2. Please use get_feature_names_out instead.\n",
      "  warnings.warn(msg, category=FutureWarning)\n"
     ]
    },
    {
     "name": "stdout",
     "output_type": "stream",
     "text": [
      "No. of feature_words:  500000\n"
     ]
    }
   ],
   "source": []
  },
  {
   "cell_type": "code",
   "execution_count": 32,
   "id": "a7f2c571",
   "metadata": {},
   "outputs": [
    {
     "data": {
      "text/plain": [
       "['aa',\n",
       " 'aa aa',\n",
       " 'aa actor',\n",
       " 'aa big',\n",
       " 'aa giveaway',\n",
       " 'aa jbas',\n",
       " 'aa nft',\n",
       " 'aa ruggers',\n",
       " 'aa soon',\n",
       " 'aa tell',\n",
       " 'aa thankyouu',\n",
       " 'aaa',\n",
       " 'aaa game',\n",
       " 'aaa games',\n",
       " 'aaa kind',\n",
       " 'aaa metahuahua',\n",
       " 'aaa truly',\n",
       " 'aaa validator',\n",
       " 'aaaa',\n",
       " 'aaaa feature',\n",
       " 'aaaa milyhossain',\n",
       " 'aaaaa',\n",
       " 'aaaaa thank',\n",
       " 'aaaaaaa',\n",
       " 'aaaaaaa ðÿ',\n",
       " 'aaaaaaartz',\n",
       " 'aaaaaaartz theforgearena',\n",
       " 'aaaaaaayyyyyyeeeeeyepepe',\n",
       " 'aaaaaaayyyyyyeeeeeyepepe ðÿš',\n",
       " 'aaaaaall',\n",
       " 'aaaaaall good',\n",
       " 'aaaaaðÿ',\n",
       " 'aaaaaðÿ x8dðÿ',\n",
       " 'aaaajb',\n",
       " 'aaaajb airdropexp',\n",
       " 'aaaannnndddd',\n",
       " 'aaaannnndddd offer',\n",
       " 'aaad',\n",
       " 'aaad ayyub',\n",
       " 'aaaeeb',\n",
       " 'aaaeeb richquack',\n",
       " 'aaametahuahua',\n",
       " 'aaametahuahua end',\n",
       " 'aaannddd',\n",
       " 'aaannddd another',\n",
       " 'aaapa',\n",
       " 'aaapa similar',\n",
       " 'aaawwam',\n",
       " 'aaawwam discord',\n",
       " 'aaayusisilia',\n",
       " 'aaayusisilia first',\n",
       " 'aabc',\n",
       " 'aabidafridi',\n",
       " 'aabidafridi crypto',\n",
       " 'aac',\n",
       " 'aac aac',\n",
       " 'aac aacpass',\n",
       " 'aacpass',\n",
       " 'aacpass nftspace',\n",
       " 'aacryptoma',\n",
       " 'aacryptoma enthusiasmnft',\n",
       " 'aadbtitlic',\n",
       " 'aadbtitlic feature',\n",
       " 'aadcrypto',\n",
       " 'aadcrypto nischalshetty',\n",
       " 'aaeecccf',\n",
       " 'aafshit',\n",
       " 'aafshit first',\n",
       " 'aaftabaslam',\n",
       " 'aaftabaslam abhineetbaghelserkanbulut',\n",
       " 'aaftw',\n",
       " 'aaftw lifesajokenft',\n",
       " 'aag',\n",
       " 'aag feature',\n",
       " 'aag richquack',\n",
       " 'aaglara',\n",
       " 'aaglara scryerxx',\n",
       " 'aagventures',\n",
       " 'aagventures babykongnft',\n",
       " 'aah',\n",
       " 'aah ahh',\n",
       " 'aajurdu',\n",
       " 'aajurdu drwhitelist',\n",
       " 'aakanshanagar',\n",
       " 'aakanshanagar airdrop',\n",
       " 'aakash',\n",
       " 'aakashrng',\n",
       " 'aakashrng agussannikk',\n",
       " 'aakshayshinde',\n",
       " 'aakshayshinde pratikp',\n",
       " 'aalaminmdshahirtairdrop',\n",
       " 'aalaminmdshahirtairdrop web',\n",
       " 'aalbertsf',\n",
       " 'aalbertsf usdt',\n",
       " 'aaleey',\n",
       " 'aaleey palashm',\n",
       " 'aalexro',\n",
       " 'aalexro projectsokos',\n",
       " 'aamiin',\n",
       " 'aamiin aamiin',\n",
       " 'aamiin thank',\n",
       " 'aamiinðÿ',\n",
       " 'aamiinðÿ x8fðÿ',\n",
       " 'aamoyeth',\n",
       " 'aamoyeth congratulations',\n",
       " 'aamoyeth rareapepeyc',\n",
       " 'aancofficial',\n",
       " 'aancofficial vietnam',\n",
       " 'aandre',\n",
       " 'aandre feature',\n",
       " 'aandre rarible',\n",
       " 'aanft',\n",
       " 'aanft xrparmy',\n",
       " 'aanggntr',\n",
       " 'aanggntr bantalcrypto',\n",
       " 'aansetiawa',\n",
       " 'aansetiawa meg',\n",
       " 'aantonop',\n",
       " 'aantonop lopp',\n",
       " 'aanyas',\n",
       " 'aanyas firoza',\n",
       " 'aap',\n",
       " 'aap ðÿ',\n",
       " 'aapequeen',\n",
       " 'aapequeen nftcollector',\n",
       " 'aapequeens',\n",
       " 'aapequeens apocalypticapes',\n",
       " 'aapequeens fityeth',\n",
       " 'aapequeens nftlover',\n",
       " 'aapes',\n",
       " 'aapes giveawayðÿš',\n",
       " 'aapes rocketnapalm',\n",
       " 'aaqibjamal',\n",
       " 'aaqibjamal hfd',\n",
       " 'aardiensclub',\n",
       " 'aardiensclub feature',\n",
       " 'aardiensclub nfts',\n",
       " 'aardiensclub ðÿ',\n",
       " 'aardienspaceclub',\n",
       " 'aardienspaceclub nft',\n",
       " 'aardienspaceclub nftgiveaways',\n",
       " 'aarezamm',\n",
       " 'aarezamm nftdictators',\n",
       " 'aariani',\n",
       " 'aariani monalisanft',\n",
       " 'aarman',\n",
       " 'aarman feature',\n",
       " 'aarnroy',\n",
       " 'aarnroy ashokv',\n",
       " 'aarocksss',\n",
       " 'aarocksss adaeric',\n",
       " 'aaron',\n",
       " 'aaron penne',\n",
       " 'aaronbnft',\n",
       " 'aaronbnft jellyesportsnft',\n",
       " 'aaroncapp',\n",
       " 'aaroncapp madbudz',\n",
       " 'aarondbennett',\n",
       " 'aarondbennett celsiusnetwork',\n",
       " 'aarondegosu',\n",
       " 'aarondegosu calinawlins',\n",
       " 'aarondlt',\n",
       " 'aarondlt akshayjohri',\n",
       " 'aaronfryenft',\n",
       " 'aaronfryenft celebrate',\n",
       " 'aaronfryenft feature',\n",
       " 'aaronfryenft mikubsc',\n",
       " 'aaronfryenft thanks',\n",
       " 'aaronhaber',\n",
       " 'aaronhaber charredjawa',\n",
       " 'aaronhaber nftfrost',\n",
       " 'aaronhaber vizmesh',\n",
       " 'aaronho',\n",
       " 'aaronho feature',\n",
       " 'aaronitogm',\n",
       " 'aaronitogm rareapepeyc',\n",
       " 'aaronjackarts',\n",
       " 'aaronjackarts elishafaei',\n",
       " 'aaronleupp',\n",
       " 'aaronleupp celebrate',\n",
       " 'aaronleupp cutecatnft',\n",
       " 'aaronleupp hi',\n",
       " 'aaronleupp thats',\n",
       " 'aaronleupp vortexsnft',\n",
       " 'aaronleupp waifumons',\n",
       " 'aaronleupp wonderful',\n",
       " 'aaronleupp xcfeacbabebaede',\n",
       " 'aaronleupp xdfceacbefacfffed',\n",
       " 'aaronpa',\n",
       " 'aaronpa scottmacki',\n",
       " 'aaronpenne',\n",
       " 'aaronpenne artblocksio',\n",
       " 'aaronrferguson',\n",
       " 'aaronrferguson saucebook',\n",
       " 'aaronvanw',\n",
       " 'aaronvanw high',\n",
       " 'aaronvirhuez',\n",
       " 'aaronvirhuez ojisan',\n",
       " 'aaroshpgt',\n",
       " 'aaroshpgt rainyyinft',\n",
       " 'aarshadquraishi',\n",
       " 'aarshadquraishi lhwza',\n",
       " 'aarti',\n",
       " 'aarti sunil',\n",
       " 'aartimahawar',\n",
       " 'aartimahawar yogitasharma',\n",
       " 'aartsensarina',\n",
       " 'aartsensarina pongpanodsombat',\n",
       " 'aarumq',\n",
       " 'aarumq kalr',\n",
       " 'aasanann',\n",
       " 'aasckenji',\n",
       " 'aasckenji feature',\n",
       " 'aasep',\n",
       " 'aashd',\n",
       " 'aashd careypatienc',\n",
       " 'aashutoshkatta',\n",
       " 'aashutoshkatta talkaashiq',\n",
       " 'aave',\n",
       " 'aave aave',\n",
       " 'aave nftplayer',\n",
       " 'aave presale',\n",
       " 'aave ðÿ',\n",
       " 'aaveaave',\n",
       " 'aaveaave dogelonmars',\n",
       " 'aaveaave high',\n",
       " 'aavegotchi',\n",
       " 'aavegotchi giveaway',\n",
       " 'aaves',\n",
       " 'aaves proposal',\n",
       " 'aaxaays',\n",
       " 'aaxaays aman',\n",
       " 'aaxexchange',\n",
       " 'aaxexchange daodvrs',\n",
       " 'aaxexchange feature',\n",
       " 'aaxexchange ðÿš',\n",
       " 'aaxxioomm',\n",
       " 'aaxxioomm feature',\n",
       " 'aaxxioomm speakingpm',\n",
       " 'aaxxioomm thislifeagain',\n",
       " 'aayamahmoud',\n",
       " 'aayamahmoud feature',\n",
       " 'aayha',\n",
       " 'aaymannft',\n",
       " 'aaymannft celebrate',\n",
       " 'aaymannft imagine',\n",
       " 'aaymannft pandoriansnft',\n",
       " 'aayyeeee',\n",
       " 'aayyeeee lfg',\n",
       " 'aayzn',\n",
       " 'aayzn done',\n",
       " 'ab',\n",
       " 'ab bebbeen',\n",
       " 'ab spot',\n",
       " 'ab wwpbnft',\n",
       " 'abacadimy',\n",
       " 'abacadimy airdroptoday',\n",
       " 'abacksmoggybumblebee',\n",
       " 'abacksmoggybumblebee ðÿ',\n",
       " 'abadarchie',\n",
       " 'abadarchie draudehnj',\n",
       " 'abadcbcaabaf',\n",
       " 'abadcbcaabaf nft',\n",
       " 'abaftart',\n",
       " 'abaftart nftlucker',\n",
       " 'abagainstucp',\n",
       " 'abagainstucp rhyscourtman',\n",
       " 'abagnikar',\n",
       " 'abagnikar venkate',\n",
       " 'abakarmanany',\n",
       " 'abakarmanany high',\n",
       " 'abandon',\n",
       " 'abandon joepegs',\n",
       " 'abandoned',\n",
       " 'abandoned accepting',\n",
       " 'abandoned animal',\n",
       " 'abandoned forgotten',\n",
       " 'abandoned investors',\n",
       " 'abandoned land',\n",
       " 'abandoned landscapes',\n",
       " 'abandoned lost',\n",
       " 'abandoned mine',\n",
       " 'abandoned project',\n",
       " 'abandoned question',\n",
       " 'abandoned school',\n",
       " 'abandoned son',\n",
       " 'abandoned streets',\n",
       " 'abandoned toy',\n",
       " 'abandoned urbex',\n",
       " 'abandoned youth',\n",
       " 'abandonedbots',\n",
       " 'abandonedbots trying',\n",
       " 'abandonedplaces',\n",
       " 'abandonedplaces collection',\n",
       " 'abandonedscorps',\n",
       " 'abandonedscorps buffwildradix',\n",
       " 'abandonedscorps meme',\n",
       " 'abandonedscorps radisheco',\n",
       " 'abandonedscorps share',\n",
       " 'abandoning',\n",
       " 'abandoning months',\n",
       " 'abangpixel',\n",
       " 'abangpixel opensea',\n",
       " 'abangthamvan',\n",
       " 'abangthamvan feature',\n",
       " 'abanyisulex',\n",
       " 'abanyisulex stargazezone',\n",
       " 'abaraemediong',\n",
       " 'abaraemediong nvmajay',\n",
       " 'abaratrs',\n",
       " 'abaratrs sethappens',\n",
       " 'abas',\n",
       " 'abas aliijooon',\n",
       " 'abasge',\n",
       " 'abasge caughtunfresh',\n",
       " 'abasionojumbo',\n",
       " 'abasit',\n",
       " 'abasit cryptoqueen',\n",
       " 'abasoptionz',\n",
       " 'abasoptionz augustinefabi',\n",
       " 'abatement',\n",
       " 'abatement amp',\n",
       " 'abathorgame',\n",
       " 'abathorgame nice',\n",
       " 'abaycrypto',\n",
       " 'abaycrypto cryptnacci',\n",
       " 'abayomidigitals',\n",
       " 'abayomidigitals okaforchidex',\n",
       " 'abbaacres',\n",
       " 'abbaacres karedenaly',\n",
       " 'abbaacres littlecat',\n",
       " 'abbaacres mrlibino',\n",
       " 'abbandoned',\n",
       " 'abbandoned hospital',\n",
       " 'abberkar',\n",
       " 'abberkar mustymng',\n",
       " 'abby',\n",
       " 'abby average',\n",
       " 'abby mocking',\n",
       " 'abbybigwincutie',\n",
       " 'abbybigwincutie feature',\n",
       " 'abbynftmove',\n",
       " 'abbynftmove feature',\n",
       " 'abbywolson',\n",
       " 'abbywolson nice',\n",
       " 'abc',\n",
       " 'abc bbcworld',\n",
       " 'abcbdeaeaeeeaf',\n",
       " 'abcc',\n",
       " 'abcc roedytono',\n",
       " 'abcdantuislam',\n",
       " 'abcdantuislam feature',\n",
       " 'abcdcl',\n",
       " 'abcdcl decentraland',\n",
       " 'abcdecentraland',\n",
       " 'abcdecentraland uniquehornsnft',\n",
       " 'abcdloveyouuuuu',\n",
       " 'abcdloveyouuuuu ra',\n",
       " 'abcefecfebfcabea',\n",
       " 'abckr',\n",
       " 'abckr kibajoker',\n",
       " 'abcmetaio',\n",
       " 'abcmetaio coinmarketcap',\n",
       " 'abcmetaio ereprenom',\n",
       " 'abcmetaâ',\n",
       " 'abcmetaâ account',\n",
       " 'abctrutnov',\n",
       " 'abctrutnov dadulkarusalka',\n",
       " 'abd',\n",
       " 'abd amberlia',\n",
       " 'abd rifqi',\n",
       " 'abdalla',\n",
       " 'abdalla safemoon',\n",
       " 'abdallah',\n",
       " 'abdallah vhedin',\n",
       " 'abdalmalek',\n",
       " 'abdalmalek susieantonio',\n",
       " 'abdaoio',\n",
       " 'abdaoio joinblocks',\n",
       " 'abdb',\n",
       " 'abdcx',\n",
       " 'abdcx feature',\n",
       " 'abdd',\n",
       " 'abdd czbinance',\n",
       " 'abdealim',\n",
       " 'abdealim opensea',\n",
       " 'abdelangus',\n",
       " 'abdelangus feature',\n",
       " 'abdelhamidmokh',\n",
       " 'abdelhamidmokh kirkbypomponio',\n",
       " 'abdelkaderbeli',\n",
       " 'abdelkaderbeli winning',\n",
       " 'abdinusantara',\n",
       " 'abdinusantara httpstcorchthmwc',\n",
       " 'abdllhc',\n",
       " 'abdllhc hamza',\n",
       " 'abdo',\n",
       " 'abdo joinsuperlocal',\n",
       " 'abdoehahoy',\n",
       " 'abdoehahoy gumpypanda',\n",
       " 'abdou',\n",
       " 'abdou premintnft',\n",
       " 'abdou proposal',\n",
       " 'abdouaz',\n",
       " 'abdouaz good',\n",
       " 'abdoulraou',\n",
       " 'abdoulraou feature',\n",
       " 'abdrahmanbenha',\n",
       " 'abdrahmanbenha bitcoiner',\n",
       " 'abdrasheedgbola',\n",
       " 'abdrasheedgbola kucoincom',\n",
       " 'abdtrung',\n",
       " 'abdtrung abdulbhai',\n",
       " 'abducting',\n",
       " 'abducting collective',\n",
       " 'abducting cows',\n",
       " 'abductingco',\n",
       " 'abductingco atsnft',\n",
       " 'abductingco available',\n",
       " 'abductingco congratulations',\n",
       " 'abductingco feature',\n",
       " 'abductingco hakunabanana',\n",
       " 'abductingco konkonnfts',\n",
       " 'abductingco lrdfwar',\n",
       " 'abductingco minted',\n",
       " 'abductingco nftjamo',\n",
       " 'abductingco popcornready',\n",
       " 'abductingco taking',\n",
       " 'abductingco thanks',\n",
       " 'abductingco zrnfts',\n",
       " 'abductingco ðÿ',\n",
       " 'abductingcollective',\n",
       " 'abductingcollective abductingmfers',\n",
       " 'abductingcollective explore',\n",
       " 'abductingmfers',\n",
       " 'abductingmfers nftgiveaway',\n",
       " 'abduction',\n",
       " 'abduction inevitable',\n",
       " 'abduh',\n",
       " 'abduh sourceshipsell',\n",
       " 'abdul',\n",
       " 'abdul bktrader',\n",
       " 'abdula',\n",
       " 'abdula khali',\n",
       " 'abdulah',\n",
       " 'abdulah chinacryptohz',\n",
       " 'abdulalim',\n",
       " 'abdulalim airdrop',\n",
       " 'abdulassissm',\n",
       " 'abdulassissm manpreetkaurmaa',\n",
       " 'abdulaziz',\n",
       " 'abdulaziz aftabsk',\n",
       " 'abdulbhai',\n",
       " 'abdulbhai stkrou',\n",
       " 'abdulbigwin',\n",
       " 'abdulbigwin feature',\n",
       " 'abdulha',\n",
       " 'abdulha daisukinft',\n",
       " 'abdulhalim',\n",
       " 'abdulhalim farinisla',\n",
       " 'abdulja',\n",
       " 'abdulja airinnft',\n",
       " 'abdulku',\n",
       " 'abdulku juwel',\n",
       " 'abdull',\n",
       " 'abdull participated',\n",
       " 'abdull shidul',\n",
       " 'abdulla',\n",
       " 'abdulla aceng',\n",
       " 'abdulla alamik',\n",
       " 'abdulla athena',\n",
       " 'abdulla pakhiakter',\n",
       " 'abdullah',\n",
       " 'abdullah feature',\n",
       " 'abdullahaladn',\n",
       " 'abdullahaladn zonayetahme',\n",
       " 'abdullahopeyem',\n",
       " 'abdullahopeyem elrondexpress',\n",
       " 'abdullahopeyem solgiveaways',\n",
       " 'abdullahranim',\n",
       " 'abdullahranim airdrop',\n",
       " 'abdullahranim rezaulri',\n",
       " 'abdullahroghan',\n",
       " 'abdullahroghan drmsohai',\n",
       " 'abdulm',\n",
       " 'abdulm lararealme',\n",
       " 'abdulmaruf',\n",
       " 'abdulmaruf daisukinft',\n",
       " 'abdulpoaziz',\n",
       " 'abdulpoaziz polenkoutside',\n",
       " 'abdulra',\n",
       " 'abdulra feature',\n",
       " 'abdulrasya',\n",
       " 'abdulrasya feature',\n",
       " 'abdulrehman',\n",
       " 'abdulrehman feature',\n",
       " 'abdulrohim',\n",
       " 'abdulrohim shuvokaz',\n",
       " 'abdulsa',\n",
       " 'abdulsa futurekim',\n",
       " 'abdulsa rokpurna',\n",
       " 'abdulsubhan',\n",
       " 'abdulsubhan gngstyl',\n",
       " 'abdulw',\n",
       " 'abdulw xabddccdfcbebf',\n",
       " 'abdulwahaa',\n",
       " 'abdulwahaa husainreko',\n",
       " 'abdulwahid',\n",
       " 'abdulwahid airdropvenue',\n",
       " 'abdulyy',\n",
       " 'abdulyy cosmococooc',\n",
       " 'abdurakhi',\n",
       " 'abdurakhi kangzangzeliang',\n",
       " 'abdurra',\n",
       " 'abdurra abdull',\n",
       " 'abdurra abujimad',\n",
       " 'abdurra feature',\n",
       " 'abdurra jumiatimanja',\n",
       " 'abdurra movetoearn',\n",
       " 'abdurraahi',\n",
       " 'abdurraahi musyrf',\n",
       " 'abdurrahman',\n",
       " 'abdurrahman feature',\n",
       " 'abduuubaqi',\n",
       " 'abduuubaqi thinkaboutzunft',\n",
       " 'abduzeedo',\n",
       " 'abduzeedo nft',\n",
       " 'abeajahnaffahim',\n",
       " 'abeajahnaffahim goanft',\n",
       " 'abeajx',\n",
       " 'abeajx goanft',\n",
       " 'abearschmitt',\n",
       " 'abearschmitt present',\n",
       " 'abeast',\n",
       " 'abeast atamanft',\n",
       " 'abeast rickiejai',\n",
       " 'abeatsgame',\n",
       " 'abeatsgame jochenito',\n",
       " 'abeautifulchao',\n",
       " 'abeautifulchao madboo',\n",
       " 'abedelk',\n",
       " 'abedelk abdurra',\n",
       " 'abedin',\n",
       " 'abelardo',\n",
       " 'abelardo join',\n",
       " 'abeldillon',\n",
       " 'abeldillon capricorn',\n",
       " 'abelladangerù',\n",
       " 'abelladangerù x90',\n",
       " 'abelnft',\n",
       " 'abelnft opensea',\n",
       " 'abenznft',\n",
       " 'abenznft ambieth',\n",
       " 'abenznft aww',\n",
       " 'abenznft chupacabrapower',\n",
       " 'abenznft congratulations',\n",
       " 'abenznft crystaldstreet',\n",
       " 'abenznft gm',\n",
       " 'abenznft good',\n",
       " 'abenznft nice',\n",
       " 'abenznft thank',\n",
       " 'abenznft thanks',\n",
       " 'abeokuta',\n",
       " 'abeokuta the',\n",
       " 'abepiey',\n",
       " 'abepiey feature',\n",
       " 'abepiey madvapesnft',\n",
       " 'aberlind',\n",
       " 'aberlind dogfeelings',\n",
       " 'abgives',\n",
       " 'abgives celebrate',\n",
       " 'abgives ðÿ',\n",
       " 'abgkyo',\n",
       " 'abgkyo binalyze',\n",
       " 'abh',\n",
       " 'abh arumicrypto',\n",
       " 'abh rovercrc',\n",
       " 'abhay',\n",
       " 'abhay ðÿ',\n",
       " 'abhayth',\n",
       " 'abhayth daostf',\n",
       " 'abhi',\n",
       " 'abhi dont',\n",
       " 'abhi feature',\n",
       " 'abhi freenft',\n",
       " 'abhi good',\n",
       " 'abhi seedifyfund',\n",
       " 'abhi ðÿ',\n",
       " 'abhib',\n",
       " 'abhib adarshmohn',\n",
       " 'abhibab',\n",
       " 'abhibab abhishe',\n",
       " 'abhibisarya',\n",
       " 'abhibisarya rfcryptostudies',\n",
       " 'abhibjp',\n",
       " 'abhibjp nftcommunity',\n",
       " 'abhij',\n",
       " 'abhij httpstcoaoqnbkqty',\n",
       " 'abhij httpstcomhdxkeude',\n",
       " 'abhijitmakal',\n",
       " 'abhijitmakal overealitynft',\n",
       " 'abhina',\n",
       " 'abhina first',\n",
       " 'abhinav',\n",
       " 'abhinav feature',\n",
       " 'abhinavgirdhar',\n",
       " 'abhinavgirdhar feature',\n",
       " 'abhinavgirdhar pe',\n",
       " 'abhineetbaghelserkanbulut',\n",
       " 'abhineetbaghelserkanbulut nfts',\n",
       " 'abhirai',\n",
       " 'abhirai feature',\n",
       " 'abhirai tompkinsl',\n",
       " 'abhish',\n",
       " 'abhish ankit',\n",
       " 'abhishe',\n",
       " 'abhishe abidsha',\n",
       " 'abhishe divyach',\n",
       " 'abhishe dreamingfuture',\n",
       " 'abhishe feature',\n",
       " 'abhishe first',\n",
       " 'abhishe jamalnk',\n",
       " 'abhishek',\n",
       " 'abhishek aakash',\n",
       " 'abhishekmakal',\n",
       " 'abhishekmakal proof',\n",
       " 'abhisingh',\n",
       " 'abhix',\n",
       " 'abhix abir',\n",
       " 'abhix eraofficial',\n",
       " 'abhix feature',\n",
       " 'abhix oabqusterplr',\n",
       " 'abhjofficial',\n",
       " 'abhjofficial iglivision',\n",
       " 'abhs',\n",
       " 'abhs airdropped',\n",
       " 'abi',\n",
       " 'abi communityðÿ',\n",
       " 'abiabi',\n",
       " 'abiabi building',\n",
       " 'abiabi feature',\n",
       " 'abiahiberedem',\n",
       " 'abiahiberedem feature',\n",
       " 'abibahram',\n",
       " 'abibahram feature',\n",
       " 'abibc',\n",
       " 'abibc feature',\n",
       " 'abidakh',\n",
       " 'abidakh future',\n",
       " 'abide',\n",
       " 'abide rules',\n",
       " 'abides',\n",
       " 'abides imfrank',\n",
       " 'abidev',\n",
       " 'abidev feature',\n",
       " 'abidouz',\n",
       " 'abidouz altamas',\n",
       " 'abidsadidu',\n",
       " 'abidsadidu tabassumakters',\n",
       " 'abidsha',\n",
       " 'abidsha fantasymaster',\n",
       " 'abigail',\n",
       " 'abigail feature',\n",
       " 'abigthingbadly',\n",
       " 'abigthingbadly cryptokeezi',\n",
       " 'abigthingbadly feature',\n",
       " 'abigwin',\n",
       " 'abigwin first',\n",
       " 'abigwin richquack',\n",
       " 'abihakhan',\n",
       " 'abihakhan feature',\n",
       " 'abike',\n",
       " 'abike thanks',\n",
       " 'abilash',\n",
       " 'abilash abisheiksmsd',\n",
       " 'abilities',\n",
       " 'abilities amp',\n",
       " 'abilities making',\n",
       " 'abilities official',\n",
       " 'abilities woods',\n",
       " 'abilitiesðÿ',\n",
       " 'abilitiesðÿ follow',\n",
       " 'ability',\n",
       " 'ability bring',\n",
       " 'ability make',\n",
       " 'ability mint',\n",
       " 'ability observe',\n",
       " 'ability others',\n",
       " 'ability pay',\n",
       " 'ability priceless',\n",
       " 'ability progress',\n",
       " 'ability stake',\n",
       " 'abimana',\n",
       " 'abimana samuelbashir',\n",
       " 'abingembul',\n",
       " 'abingembul feature',\n",
       " 'abinve',\n",
       " 'abinve congratulations',\n",
       " 'abir',\n",
       " 'abir feature',\n",
       " 'abir hasanali',\n",
       " 'abir rsramjanali',\n",
       " 'abirahmed',\n",
       " 'abirahmed ahmedlabin',\n",
       " 'abirhas',\n",
       " 'abirhessein',\n",
       " 'abirhessein daisukinft',\n",
       " 'abirnft',\n",
       " 'abirnft ayush',\n",
       " 'abirnft myla',\n",
       " 'abirthepicchi',\n",
       " 'abirthepicchi mdrafi',\n",
       " 'abirthepicchi zihad',\n",
       " 'abirx',\n",
       " 'abirx minan',\n",
       " 'abisheiksmsd',\n",
       " 'abisheiksmsd lenintendulkar',\n",
       " 'abism',\n",
       " 'abism edchidna',\n",
       " 'abit',\n",
       " 'abit quiet',\n",
       " 'abites',\n",
       " 'abites holder',\n",
       " 'abiyaya',\n",
       " 'abiyaya feature',\n",
       " 'abizzfps',\n",
       " 'abizzfps aleinamurphy',\n",
       " 'abjain',\n",
       " 'abjain jainx',\n",
       " 'abjain priyaatechno',\n",
       " 'abjain rhinoxnft',\n",
       " 'abjec',\n",
       " 'abjec nfttracker',\n",
       " 'abking',\n",
       " 'abking feature',\n",
       " 'abksss',\n",
       " 'abksss nirav',\n",
       " 'abkunta',\n",
       " 'abkunta harakainft',\n",
       " 'ablazajojit',\n",
       " 'ablazajojit congratulations',\n",
       " 'able',\n",
       " 'able absorbed',\n",
       " 'able access',\n",
       " 'able actively',\n",
       " 'able add',\n",
       " 'able afford',\n",
       " 'able approve',\n",
       " 'able avoid',\n",
       " 'able book',\n",
       " 'able build',\n",
       " 'able buy',\n",
       " 'able call',\n",
       " 'able catch',\n",
       " 'able chat',\n",
       " 'able claim',\n",
       " 'able compete',\n",
       " 'able control',\n",
       " 'able create',\n",
       " 'able customize',\n",
       " 'able deliver',\n",
       " 'able earn',\n",
       " 'able enjoy',\n",
       " 'able enter',\n",
       " 'able eventually',\n",
       " 'able everything',\n",
       " 'able explain',\n",
       " 'able express',\n",
       " 'able famous',\n",
       " 'able fill',\n",
       " 'able finally',\n",
       " 'able flip',\n",
       " 'able get',\n",
       " 'able give',\n",
       " 'able grab',\n",
       " 'able handle',\n",
       " 'able help',\n",
       " 'able interact',\n",
       " 'able invest',\n",
       " 'able join',\n",
       " 'able june',\n",
       " 'able like',\n",
       " 'able make',\n",
       " 'able mint',\n",
       " 'able move',\n",
       " 'able now',\n",
       " 'able participate',\n",
       " 'able pick',\n",
       " 'able play',\n",
       " 'able plumb',\n",
       " 'able prioritise',\n",
       " 'able profit',\n",
       " 'able purchase',\n",
       " 'able put',\n",
       " 'able raid',\n",
       " 'able record',\n",
       " 'able recover',\n",
       " 'able recreate',\n",
       " 'able recruit',\n",
       " 'able say',\n",
       " 'able see',\n",
       " 'able sell',\n",
       " 'able set',\n",
       " 'able stake',\n",
       " 'able stay',\n",
       " 'able support',\n",
       " 'able take',\n",
       " 'able use',\n",
       " 'able verify',\n",
       " 'able win',\n",
       " 'able work',\n",
       " 'abnfts',\n",
       " 'abnfts trends',\n",
       " 'abnormalcrypto',\n",
       " 'abnormalcrypto celebrate',\n",
       " 'abnormalcrypto first',\n",
       " 'abnormalcrypto mikubsc',\n",
       " 'abnormalgoblin',\n",
       " 'abnormalgoblin sontungfa',\n",
       " 'abnrr',\n",
       " 'abnrr platypussdivva',\n",
       " 'aboahgodwin',\n",
       " 'aboahgodwin cryptoorion',\n",
       " 'aboahgodwin xblockinsol',\n",
       " 'aboard',\n",
       " 'aboard letâ',\n",
       " 'aboard whimsical',\n",
       " 'aboard âœˆï',\n",
       " 'aboard ðÿž',\n",
       " 'abohas',\n",
       " 'abohas ahmedmma',\n",
       " 'aboit',\n",
       " 'aboit nft',\n",
       " 'abol',\n",
       " 'abol emm',\n",
       " 'abolajialasela',\n",
       " 'abolajialasela uniquesak',\n",
       " 'aboliimo',\n",
       " 'aboliimo rarible',\n",
       " 'abominacionx',\n",
       " 'abominacionx feature',\n",
       " 'aboncdoc',\n",
       " 'aboncdoc nativecrypto',\n",
       " 'aboomar',\n",
       " 'aboomar kellysimmerman',\n",
       " 'aboomar nftbsfanpage',\n",
       " 'aboout',\n",
       " 'aboout thiiiis',\n",
       " 'aboozar',\n",
       " 'aboozar justgrea',\n",
       " 'aboriginal',\n",
       " 'aboriginal nfttrend',\n",
       " 'aboriginalobr',\n",
       " 'aboriginalobr solaniumio',\n",
       " 'abortionrights',\n",
       " 'abortionrights bitcoin',\n",
       " 'about',\n",
       " 'about different',\n",
       " 'about earn',\n",
       " 'about except',\n",
       " 'about follow',\n",
       " 'about great',\n",
       " 'about httpstcsnzhvdny',\n",
       " 'about nft',\n",
       " 'about nftcommunity',\n",
       " 'about not',\n",
       " 'about oscar',\n",
       " 'about proud',\n",
       " 'about ready',\n",
       " 'about rolazhedgefund',\n",
       " 'about someone',\n",
       " 'about thanks',\n",
       " 'about x9d',\n",
       " 'about youre',\n",
       " 'about âœ',\n",
       " 'aboutgsww',\n",
       " 'aboutgsww wish',\n",
       " 'aboutt',\n",
       " 'aboutt thiis',\n",
       " 'aboutt thiiss',\n",
       " 'aboutt this',\n",
       " 'aboutthe',\n",
       " 'aboutthe idea',\n",
       " 'aboutworking',\n",
       " 'aboutworking hard',\n",
       " 'aboutðÿœ¹ðÿ',\n",
       " 'abouut',\n",
       " 'abouut httpstcojnymldel',\n",
       " 'abouut httpstcowebqrylhrf',\n",
       " 'abouut httpstcoyigsuiolu',\n",
       " 'abouut thisss',\n",
       " 'abov',\n",
       " 'abov thn',\n",
       " 'above',\n",
       " 'above amp',\n",
       " 'above myriads',\n",
       " 'abovemultibears',\n",
       " 'abovemultibears nftcollectors',\n",
       " 'abovemultibears whaleeverything',\n",
       " 'aboxcrypto',\n",
       " 'aboxcrypto new',\n",
       " 'abparveez',\n",
       " 'abparveez cryptotablet',\n",
       " 'abragedo',\n",
       " 'abragedo suhosinworld',\n",
       " 'abraham',\n",
       " 'abrahamcromwe',\n",
       " 'abrahamcromwe feature',\n",
       " 'abrahamdansonft',\n",
       " 'abrahamdansonft wlfer',\n",
       " 'abrahamfinn',\n",
       " 'abrahamfinn feature',\n",
       " 'abrahamkwabee',\n",
       " 'abrahamkwabee celebrate',\n",
       " 'abrahammichee',\n",
       " 'abrahammichee jbakhsin',\n",
       " 'abrahammshana',\n",
       " 'abrahammshana imcmkwe',\n",
       " 'abrahamnftar',\n",
       " 'abrahamnftar nftbuying',\n",
       " 'abrahannyr',\n",
       " 'abrahannyr tracyleephotos',\n",
       " 'abrahmab',\n",
       " 'abrahmab abdurra',\n",
       " 'abrapele',\n",
       " 'abrapele spaceridersnft',\n",
       " 'abrar',\n",
       " 'abrar aaad',\n",
       " 'abrarf',\n",
       " 'abrarf hmshakilbd',\n",
       " 'abrarjihan',\n",
       " 'abrarjihan httpstcovnwnkkeut',\n",
       " 'abrarsajjad',\n",
       " 'abrarsajjad sajib',\n",
       " 'abrarul',\n",
       " 'abrarul kamrulh',\n",
       " 'abreddy',\n",
       " 'abreddy bitcoiner',\n",
       " 'abreddy sacredtails',\n",
       " 'abreuparticip',\n",
       " 'abreuparticip brookes',\n",
       " 'abrisam',\n",
       " 'abrisam antonson',\n",
       " 'abrknadia',\n",
       " 'abrknadia harrynuriman',\n",
       " 'abroad',\n",
       " 'abroad therefore',\n",
       " 'abrokeowl',\n",
       " 'abrokeowl xsimoeth',\n",
       " 'abruptly',\n",
       " 'abruptly abandoned',\n",
       " 'abrwrc',\n",
       " 'abrwrc omacryptic',\n",
       " 'absence',\n",
       " 'absence labels',\n",
       " 'absence painful',\n",
       " 'absentfromthebs',\n",
       " 'absentfromthebs apehaterclub',\n",
       " 'absentfromthebs whtarenfts',\n",
       " 'absnene',\n",
       " 'absnene good',\n",
       " 'absofreakinglutely',\n",
       " 'absofreakinglutely amazing',\n",
       " 'absolon',\n",
       " 'absolon daisukinft',\n",
       " 'absolute',\n",
       " 'absolute banger',\n",
       " 'absolute best',\n",
       " 'absolute elegance',\n",
       " 'absolute epic',\n",
       " 'absolute fucking',\n",
       " 'absolute idiot',\n",
       " 'absolute insanity',\n",
       " 'absolute legends',\n",
       " 'absolute pleasure',\n",
       " 'absolute treat',\n",
       " 'absolute ðÿ',\n",
       " 'absolutebritney',\n",
       " 'absolutebritney boardbritney',\n",
       " 'absolutely',\n",
       " 'absolutely amazing',\n",
       " 'absolutely awesome',\n",
       " 'absolutely beautiful',\n",
       " 'absolutely blown',\n",
       " 'absolutely brilliant',\n",
       " 'absolutely bullish',\n",
       " 'absolutely called',\n",
       " 'absolutely chaotic',\n",
       " 'absolutely consider',\n",
       " 'absolutely dope',\n",
       " 'absolutely enthusiastic',\n",
       " 'absolutely everywhere',\n",
       " 'absolutely excited',\n",
       " 'absolutely extraordinary',\n",
       " 'absolutely fegtoken',\n",
       " 'absolutely fine',\n",
       " 'absolutely fire',\n",
       " 'absolutely fired',\n",
       " 'absolutely full',\n",
       " 'absolutely going',\n",
       " ...]"
      ]
     },
     "execution_count": 32,
     "metadata": {},
     "output_type": "execute_result"
    }
   ],
   "source": []
  },
  {
   "cell_type": "code",
   "execution_count": null,
   "id": "ff47e8c3",
   "metadata": {},
   "outputs": [],
   "source": []
  },
  {
   "cell_type": "code",
   "execution_count": null,
   "id": "8bfb4449",
   "metadata": {},
   "outputs": [],
   "source": []
  },
  {
   "cell_type": "code",
   "execution_count": 115,
   "id": "6b468f97",
   "metadata": {},
   "outputs": [],
   "source": [
    "traindf = data[data['intent'] != -1]"
   ]
  },
  {
   "cell_type": "code",
   "execution_count": 116,
   "id": "55b41dcc",
   "metadata": {},
   "outputs": [],
   "source": [
    "X=traindf[\"text\"]"
   ]
  },
  {
   "cell_type": "code",
   "execution_count": 117,
   "id": "ed5fe6c4",
   "metadata": {},
   "outputs": [],
   "source": [
    "Y=traindf[\"intent\"]"
   ]
  },
  {
   "cell_type": "code",
   "execution_count": null,
   "id": "56cb8890",
   "metadata": {},
   "outputs": [],
   "source": []
  },
  {
   "cell_type": "code",
   "execution_count": 118,
   "id": "09af5c6a",
   "metadata": {},
   "outputs": [],
   "source": [
    "from sklearn.model_selection import train_test_split"
   ]
  },
  {
   "cell_type": "code",
   "execution_count": 120,
   "id": "3eff9759",
   "metadata": {},
   "outputs": [],
   "source": [
    "X_train, X_test, y_train, y_test = train_test_split(X,Y,test_size = 0.05, random_state =26105111)"
   ]
  },
  {
   "cell_type": "code",
   "execution_count": 122,
   "id": "64ccb2ff",
   "metadata": {},
   "outputs": [],
   "source": [
    "X_t=X_train.astype(str)"
   ]
  },
  {
   "cell_type": "code",
   "execution_count": 123,
   "id": "61f76eb8",
   "metadata": {},
   "outputs": [],
   "source": [
    "X_s=X_test.astype(str)"
   ]
  },
  {
   "cell_type": "code",
   "execution_count": null,
   "id": "07943691",
   "metadata": {},
   "outputs": [],
   "source": [
    "vectoriser = TfidfVectorizer(ngram_range=(1,2), max_features=500000)\n",
    "vectoriser.fit(X_t)\n",
    "print('No. of feature_words: ', len(vectoriser.get_feature_names()))"
   ]
  },
  {
   "cell_type": "code",
   "execution_count": null,
   "id": "783402c7",
   "metadata": {},
   "outputs": [],
   "source": [
    "vectoriser.get_feature_names()"
   ]
  },
  {
   "cell_type": "code",
   "execution_count": 124,
   "id": "7713f274",
   "metadata": {},
   "outputs": [],
   "source": [
    "X_train = vectoriser.transform(X_t)\n",
    "X_test  = vectoriser.transform(X_s)"
   ]
  },
  {
   "cell_type": "code",
   "execution_count": 125,
   "id": "6b9ff8b4",
   "metadata": {},
   "outputs": [
    {
     "data": {
      "text/plain": [
       "LogisticRegression(C=2, max_iter=1000, n_jobs=-1)"
      ]
     },
     "execution_count": 125,
     "metadata": {},
     "output_type": "execute_result"
    }
   ],
   "source": [
    "LRmodel = LogisticRegression(C = 2, max_iter = 1000, n_jobs=-1)\n",
    "LRmodel.fit(X_train, y_train)"
   ]
  },
  {
   "cell_type": "code",
   "execution_count": 126,
   "id": "3bcc57a6",
   "metadata": {},
   "outputs": [],
   "source": [
    "y_pred3 = LRmodel.predict(X_test)"
   ]
  },
  {
   "cell_type": "code",
   "execution_count": 127,
   "id": "3def25cc",
   "metadata": {},
   "outputs": [
    {
     "data": {
      "text/plain": [
       "0.9667980908902262"
      ]
     },
     "execution_count": 127,
     "metadata": {},
     "output_type": "execute_result"
    }
   ],
   "source": [
    "accuracy_score(y_test, y_pred3)"
   ]
  },
  {
   "cell_type": "code",
   "execution_count": 128,
   "id": "97b7a579",
   "metadata": {},
   "outputs": [
    {
     "data": {
      "text/plain": [
       "array([[ 818,    4,    0,    6,    0,    0,    0,    1,    0],\n",
       "       [  10, 1987,    0,    2,    0,    0,    0,    1,    0],\n",
       "       [   6,    2,  142,    1,    0,    0,    0,    1,    0],\n",
       "       [  19,   22,    0, 1049,    0,    0,    0,    2,    0],\n",
       "       [   5,    3,    0,    1,    9,    0,    0,    0,    0],\n",
       "       [   0,    0,    0,    0,    0,    9,    0,    0,    0],\n",
       "       [   2,    4,    0,    2,    0,    0,  261,    2,    0],\n",
       "       [  21,   33,    0,    7,    0,    0,    1,  369,    1],\n",
       "       [   0,    1,    0,    0,    0,    0,    0,    0,   15]],\n",
       "      dtype=int64)"
      ]
     },
     "execution_count": 128,
     "metadata": {},
     "output_type": "execute_result"
    }
   ],
   "source": [
    "confusion_matrix(y_test, y_pred3)"
   ]
  },
  {
   "cell_type": "code",
   "execution_count": 153,
   "id": "65e00a70",
   "metadata": {},
   "outputs": [
    {
     "name": "stdout",
     "output_type": "stream",
     "text": [
      "              precision    recall  f1-score   support\n",
      "\n",
      "           0       0.93      0.99      0.96       829\n",
      "           1       0.97      0.99      0.98      2000\n",
      "           2       1.00      0.93      0.97       152\n",
      "           3       0.98      0.96      0.97      1092\n",
      "           4       1.00      0.50      0.67        18\n",
      "           5       1.00      1.00      1.00         9\n",
      "           6       1.00      0.96      0.98       271\n",
      "           7       0.98      0.85      0.91       432\n",
      "           8       0.94      0.94      0.94        16\n",
      "\n",
      "    accuracy                           0.97      4819\n",
      "   macro avg       0.98      0.90      0.93      4819\n",
      "weighted avg       0.97      0.97      0.97      4819\n",
      "\n"
     ]
    }
   ],
   "source": [
    "print(classification_report(y_test, y_pred3))"
   ]
  },
  {
   "cell_type": "code",
   "execution_count": null,
   "id": "bc1db898",
   "metadata": {},
   "outputs": [],
   "source": []
  },
  {
   "cell_type": "code",
   "execution_count": 129,
   "id": "98281ce1",
   "metadata": {},
   "outputs": [],
   "source": [
    "from sklearn.naive_bayes import BernoulliNB"
   ]
  },
  {
   "cell_type": "code",
   "execution_count": 130,
   "id": "a388bc85",
   "metadata": {},
   "outputs": [],
   "source": [
    "BNBmodel = BernoulliNB()"
   ]
  },
  {
   "cell_type": "code",
   "execution_count": 131,
   "id": "7141cdbb",
   "metadata": {},
   "outputs": [
    {
     "data": {
      "text/plain": [
       "BernoulliNB()"
      ]
     },
     "execution_count": 131,
     "metadata": {},
     "output_type": "execute_result"
    }
   ],
   "source": [
    "BNBmodel.fit(X_train, y_train)"
   ]
  },
  {
   "cell_type": "code",
   "execution_count": 132,
   "id": "0f7f52b4",
   "metadata": {},
   "outputs": [
    {
     "data": {
      "text/plain": [
       "array([0, 3, 1, ..., 1, 1, 1], dtype=int8)"
      ]
     },
     "execution_count": 132,
     "metadata": {},
     "output_type": "execute_result"
    }
   ],
   "source": [
    "\n",
    "y_pred1 = BNBmodel.predict(X_test)\n",
    "y_pred1 "
   ]
  },
  {
   "cell_type": "code",
   "execution_count": 133,
   "id": "73620be3",
   "metadata": {},
   "outputs": [
    {
     "data": {
      "text/plain": [
       "0.8410458601369579"
      ]
     },
     "execution_count": 133,
     "metadata": {},
     "output_type": "execute_result"
    }
   ],
   "source": [
    "accuracy_score(y_test, y_pred1)"
   ]
  },
  {
   "cell_type": "code",
   "execution_count": 134,
   "id": "e17e7f8a",
   "metadata": {},
   "outputs": [
    {
     "data": {
      "text/plain": [
       "array([[ 734,   81,    0,   14,    0,    0,    0,    0,    0],\n",
       "       [  49, 1893,    0,   56,    0,    0,    0,    2,    0],\n",
       "       [  74,   75,    3,    0,    0,    0,    0,    0,    0],\n",
       "       [  47,   29,    0, 1016,    0,    0,    0,    0,    0],\n",
       "       [   8,    7,    0,    3,    0,    0,    0,    0,    0],\n",
       "       [   1,    0,    0,    7,    0,    0,    0,    1,    0],\n",
       "       [   9,  118,    0,   15,    0,    0,  129,    0,    0],\n",
       "       [  45,   62,    0,   47,    0,    0,    0,  278,    0],\n",
       "       [   1,    0,    0,    6,    0,    0,    1,    8,    0]],\n",
       "      dtype=int64)"
      ]
     },
     "execution_count": 134,
     "metadata": {},
     "output_type": "execute_result"
    }
   ],
   "source": [
    "confusion_matrix(y_test, y_pred1)"
   ]
  },
  {
   "cell_type": "code",
   "execution_count": 152,
   "id": "e5438d31",
   "metadata": {},
   "outputs": [
    {
     "name": "stdout",
     "output_type": "stream",
     "text": [
      "              precision    recall  f1-score   support\n",
      "\n",
      "           0       0.76      0.89      0.82       829\n",
      "           1       0.84      0.95      0.89      2000\n",
      "           2       1.00      0.02      0.04       152\n",
      "           3       0.87      0.93      0.90      1092\n",
      "           4       0.00      0.00      0.00        18\n",
      "           5       0.00      0.00      0.00         9\n",
      "           6       0.99      0.48      0.64       271\n",
      "           7       0.96      0.64      0.77       432\n",
      "           8       0.00      0.00      0.00        16\n",
      "\n",
      "    accuracy                           0.84      4819\n",
      "   macro avg       0.60      0.43      0.45      4819\n",
      "weighted avg       0.85      0.84      0.82      4819\n",
      "\n"
     ]
    },
    {
     "name": "stderr",
     "output_type": "stream",
     "text": [
      "C:\\Users\\PRSANYA\\anaconda3\\lib\\site-packages\\sklearn\\metrics\\_classification.py:1318: UndefinedMetricWarning: Precision and F-score are ill-defined and being set to 0.0 in labels with no predicted samples. Use `zero_division` parameter to control this behavior.\n",
      "  _warn_prf(average, modifier, msg_start, len(result))\n",
      "C:\\Users\\PRSANYA\\anaconda3\\lib\\site-packages\\sklearn\\metrics\\_classification.py:1318: UndefinedMetricWarning: Precision and F-score are ill-defined and being set to 0.0 in labels with no predicted samples. Use `zero_division` parameter to control this behavior.\n",
      "  _warn_prf(average, modifier, msg_start, len(result))\n",
      "C:\\Users\\PRSANYA\\anaconda3\\lib\\site-packages\\sklearn\\metrics\\_classification.py:1318: UndefinedMetricWarning: Precision and F-score are ill-defined and being set to 0.0 in labels with no predicted samples. Use `zero_division` parameter to control this behavior.\n",
      "  _warn_prf(average, modifier, msg_start, len(result))\n"
     ]
    }
   ],
   "source": [
    "print(classification_report(y_test, y_pred1))"
   ]
  },
  {
   "cell_type": "code",
   "execution_count": 136,
   "id": "7d05d9c2",
   "metadata": {},
   "outputs": [],
   "source": [
    "from sklearn.svm import LinearSVC"
   ]
  },
  {
   "cell_type": "code",
   "execution_count": 137,
   "id": "b1665611",
   "metadata": {},
   "outputs": [],
   "source": [
    "SVCmodel = LinearSVC()\n"
   ]
  },
  {
   "cell_type": "code",
   "execution_count": 138,
   "id": "99931827",
   "metadata": {},
   "outputs": [
    {
     "data": {
      "text/plain": [
       "LinearSVC()"
      ]
     },
     "execution_count": 138,
     "metadata": {},
     "output_type": "execute_result"
    }
   ],
   "source": [
    "SVCmodel.fit(X_train, y_train)\n"
   ]
  },
  {
   "cell_type": "code",
   "execution_count": 139,
   "id": "ce522514",
   "metadata": {},
   "outputs": [],
   "source": [
    "\n",
    "y_pred2 = SVCmodel.predict(X_test)"
   ]
  },
  {
   "cell_type": "code",
   "execution_count": 140,
   "id": "e9ef93fc",
   "metadata": {},
   "outputs": [
    {
     "data": {
      "text/plain": [
       "0.9769661755550945"
      ]
     },
     "execution_count": 140,
     "metadata": {},
     "output_type": "execute_result"
    }
   ],
   "source": [
    "accuracy_score(y_test, y_pred2)"
   ]
  },
  {
   "cell_type": "code",
   "execution_count": 141,
   "id": "ce993901",
   "metadata": {},
   "outputs": [
    {
     "data": {
      "text/plain": [
       "array([2, 0, 1, ..., 1, 1, 1], dtype=int8)"
      ]
     },
     "execution_count": 141,
     "metadata": {},
     "output_type": "execute_result"
    }
   ],
   "source": [
    "y_pred2"
   ]
  },
  {
   "cell_type": "code",
   "execution_count": 150,
   "id": "acd74b1f",
   "metadata": {},
   "outputs": [],
   "source": [
    "from sklearn.metrics import confusion_matrix, classification_report,accuracy_score"
   ]
  },
  {
   "cell_type": "code",
   "execution_count": 151,
   "id": "c8d1bbad",
   "metadata": {},
   "outputs": [
    {
     "name": "stdout",
     "output_type": "stream",
     "text": [
      "              precision    recall  f1-score   support\n",
      "\n",
      "           0       0.94      0.99      0.96       829\n",
      "           1       0.98      1.00      0.99      2000\n",
      "           2       1.00      0.97      0.99       152\n",
      "           3       0.99      0.97      0.98      1092\n",
      "           4       0.94      0.89      0.91        18\n",
      "           5       1.00      1.00      1.00         9\n",
      "           6       0.99      0.99      0.99       271\n",
      "           7       0.99      0.88      0.93       432\n",
      "           8       0.94      1.00      0.97        16\n",
      "\n",
      "    accuracy                           0.98      4819\n",
      "   macro avg       0.97      0.96      0.97      4819\n",
      "weighted avg       0.98      0.98      0.98      4819\n",
      "\n"
     ]
    }
   ],
   "source": [
    "print(classification_report(y_test, y_pred2))"
   ]
  },
  {
   "cell_type": "code",
   "execution_count": null,
   "id": "966c32a7",
   "metadata": {},
   "outputs": [],
   "source": []
  },
  {
   "cell_type": "code",
   "execution_count": 146,
   "id": "f1cd8a0b",
   "metadata": {},
   "outputs": [],
   "source": [
    "X_n=testdf[\"text\"].astype(str)"
   ]
  },
  {
   "cell_type": "code",
   "execution_count": 147,
   "id": "4566b47c",
   "metadata": {},
   "outputs": [],
   "source": [
    "X_new = vectoriser.transform(X_n)\n"
   ]
  },
  {
   "cell_type": "code",
   "execution_count": 148,
   "id": "36885f91",
   "metadata": {},
   "outputs": [],
   "source": [
    "y_new = SVCmodel.predict(X_new)"
   ]
  },
  {
   "cell_type": "code",
   "execution_count": 149,
   "id": "e228dbff",
   "metadata": {},
   "outputs": [
    {
     "data": {
      "text/plain": [
       "array([7, 3, 7, ..., 7, 0, 2], dtype=int8)"
      ]
     },
     "execution_count": 149,
     "metadata": {},
     "output_type": "execute_result"
    }
   ],
   "source": [
    "y_new"
   ]
  },
  {
   "cell_type": "code",
   "execution_count": null,
   "id": "a585a3f5",
   "metadata": {},
   "outputs": [],
   "source": []
  }
 ],
 "metadata": {
  "kernelspec": {
   "display_name": "Python 3 (ipykernel)",
   "language": "python",
   "name": "python3"
  },
  "language_info": {
   "codemirror_mode": {
    "name": "ipython",
    "version": 3
   },
   "file_extension": ".py",
   "mimetype": "text/x-python",
   "name": "python",
   "nbconvert_exporter": "python",
   "pygments_lexer": "ipython3",
   "version": "3.9.12"
  }
 },
 "nbformat": 4,
 "nbformat_minor": 5
}
